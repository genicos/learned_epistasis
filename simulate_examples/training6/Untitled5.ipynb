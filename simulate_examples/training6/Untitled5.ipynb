{
 "cells": [
  {
   "cell_type": "code",
   "execution_count": 1,
   "id": "9cf6da68-bd27-4b62-8dfa-17667875f859",
   "metadata": {},
   "outputs": [],
   "source": [
    "import torch"
   ]
  },
  {
   "cell_type": "code",
   "execution_count": 2,
   "id": "8607c646-b2ad-4a51-b57d-2960adc8ff86",
   "metadata": {},
   "outputs": [],
   "source": [
    "def convert_files(sampling_file):\n",
    "    with open(sampling_file, \"r\") as f:\n",
    "        lines = f.readlines()\n",
    "\n",
    "    X = [[int(l) for l in line[:-1]] for line in lines]\n",
    "\n",
    "    return X\n",
    "\n",
    "Data = [torch.tensor(convert_files(\"../sword_tail_fish/samples/ancestry-probs-par1_allchrs_TLMC_thinnedHMM.tsv_chrom_\" + str(i))) - 1 for i in range(1,25)]\n"
   ]
  },
  {
   "cell_type": "code",
   "execution_count": 3,
   "id": "0ae35cb5-d4d6-410f-a448-d56acee5acd1",
   "metadata": {},
   "outputs": [],
   "source": [
    "sample_width = 55\n",
    "def get_sample(chrom1, start1, end1, chrom2, start2, end2):\n",
    "\n",
    "    X1 = Data[chrom1 - 1]\n",
    "    ind1 = int(1000*(start1 + end1)/2)\n",
    "\n",
    "    sample1 = X1[:, ind1 - sample_width//2: ind1 + sample_width//2 + 1]\n",
    "\n",
    "    X2 = Data[chrom2 - 1]\n",
    "    ind2 = int(1000*(start2 + end2)/2)\n",
    "\n",
    "    sample2 = X2[:, ind2 - sample_width//2: ind2 + sample_width//2 + 1]\n",
    "\n",
    "    if not sample1.shape[1] == sample2.shape[1] == sample_width:\n",
    "        return None\n",
    "    \n",
    "    sample = torch.cat((sample1,sample2),1)\n",
    "    return sample\n",
    "\n",
    "    "
   ]
  },
  {
   "cell_type": "code",
   "execution_count": 4,
   "id": "6c6837c3-96e0-4d8e-97cf-1bc838a960e5",
   "metadata": {},
   "outputs": [
    {
     "name": "stdout",
     "output_type": "stream",
     "text": [
      "torch.Size([93, 571])\n",
      "torch.Size([93, 481])\n",
      "torch.Size([93, 500])\n",
      "torch.Size([93, 599])\n",
      "torch.Size([93, 692])\n",
      "torch.Size([93, 519])\n",
      "torch.Size([93, 543])\n",
      "torch.Size([93, 485])\n",
      "torch.Size([93, 484])\n",
      "torch.Size([93, 638])\n",
      "torch.Size([93, 502])\n",
      "torch.Size([93, 483])\n",
      "torch.Size([93, 648])\n",
      "torch.Size([93, 693])\n",
      "torch.Size([93, 412])\n",
      "torch.Size([93, 431])\n",
      "torch.Size([93, 739])\n",
      "torch.Size([93, 1393])\n",
      "torch.Size([93, 491])\n",
      "torch.Size([93, 690])\n",
      "torch.Size([93, 507])\n",
      "torch.Size([93, 440])\n",
      "torch.Size([93, 562])\n",
      "torch.Size([93, 437])\n"
     ]
    }
   ],
   "source": [
    "for i in range(24):\n",
    "    print(Data[i].shape)"
   ]
  },
  {
   "cell_type": "code",
   "execution_count": 5,
   "id": "37f5658a-46e6-41ea-a056-eb36da2122b6",
   "metadata": {},
   "outputs": [
    {
     "data": {
      "text/plain": [
       "['chrom',\n",
       " 'start_morgans',\n",
       " 'end_morgans',\n",
       " 'chrom',\n",
       " 'start_morgans',\n",
       " 'end_morgans\\n']"
      ]
     },
     "execution_count": 5,
     "metadata": {},
     "output_type": "execute_result"
    }
   ],
   "source": [
    "with open(\"../sword_tail_fish/samples/Epistatic_pairs\", \"r\") as f:\n",
    "    lines = f.readlines()\n",
    "\n",
    "lines = [line.split('\\t') for line in lines]\n",
    "lines = [line for line in lines if len(line) > 1]\n",
    "lines.pop(0)"
   ]
  },
  {
   "cell_type": "code",
   "execution_count": 6,
   "id": "ef2c2114-b244-4a68-a658-4629911ffc89",
   "metadata": {},
   "outputs": [],
   "source": [
    "lines = [[int(line[0]), float(line[1]), float(line[2]), int(line[3]), float(line[4]), float(line[5])] for line in lines]"
   ]
  },
  {
   "cell_type": "code",
   "execution_count": 7,
   "id": "683adefe-0903-4890-8b99-da883324630a",
   "metadata": {},
   "outputs": [],
   "source": [
    "threshold = 0.001\n",
    "lines_certain = [line for line in lines if abs(line[1] - line[2]) < threshold and abs(line[4] - line[5]) < threshold]"
   ]
  },
  {
   "cell_type": "code",
   "execution_count": 8,
   "id": "43682617-85b1-4a73-8c94-3222c16fc6f0",
   "metadata": {},
   "outputs": [
    {
     "data": {
      "text/plain": [
       "327"
      ]
     },
     "execution_count": 8,
     "metadata": {},
     "output_type": "execute_result"
    }
   ],
   "source": [
    "len(lines)"
   ]
  },
  {
   "cell_type": "code",
   "execution_count": 9,
   "id": "e71bff85-e1d2-41aa-aef1-082a30d6f533",
   "metadata": {},
   "outputs": [
    {
     "data": {
      "text/plain": [
       "197"
      ]
     },
     "execution_count": 9,
     "metadata": {},
     "output_type": "execute_result"
    }
   ],
   "source": [
    "len(lines_certain)"
   ]
  },
  {
   "cell_type": "code",
   "execution_count": 10,
   "id": "97067099-ecfd-4b08-9fc1-c9d53b77e873",
   "metadata": {},
   "outputs": [
    {
     "data": {
      "text/plain": [
       "197"
      ]
     },
     "execution_count": 10,
     "metadata": {},
     "output_type": "execute_result"
    }
   ],
   "source": [
    "X = [get_sample(*line) for line in lines_certain]\n",
    "len(X)"
   ]
  },
  {
   "cell_type": "code",
   "execution_count": 11,
   "id": "4e30f04a-800e-42ce-ab1d-9da887c31419",
   "metadata": {},
   "outputs": [
    {
     "data": {
      "text/plain": [
       "113"
      ]
     },
     "execution_count": 11,
     "metadata": {},
     "output_type": "execute_result"
    }
   ],
   "source": [
    "X = [x for x in X if x is not None]\n",
    "len(X)"
   ]
  },
  {
   "cell_type": "code",
   "execution_count": 13,
   "id": "fe8f8176-d481-4599-b311-fbeaf3168785",
   "metadata": {},
   "outputs": [],
   "source": [
    "X = torch.stack(X)"
   ]
  },
  {
   "cell_type": "code",
   "execution_count": 14,
   "id": "a99923ac-df8b-40f7-9b1a-c795f1ac6a37",
   "metadata": {},
   "outputs": [],
   "source": [
    "X = torch.cat((X, X[:,:7,:]),1)"
   ]
  },
  {
   "cell_type": "code",
   "execution_count": 15,
   "id": "cdd02339-178e-42eb-9666-95d2687ffad4",
   "metadata": {},
   "outputs": [],
   "source": [
    "X = X.transpose(-2,-1)"
   ]
  },
  {
   "cell_type": "code",
   "execution_count": 16,
   "id": "b1b0af59-0d3b-4843-ade0-27b93065565a",
   "metadata": {},
   "outputs": [
    {
     "data": {
      "text/plain": [
       "torch.Size([113, 110, 100])"
      ]
     },
     "execution_count": 16,
     "metadata": {},
     "output_type": "execute_result"
    }
   ],
   "source": [
    "X.shape"
   ]
  },
  {
   "cell_type": "code",
   "execution_count": 55,
   "id": "a5aa7542-95e0-4c26-af83-40895ecc3a9f",
   "metadata": {},
   "outputs": [
    {
     "name": "stdout",
     "output_type": "stream",
     "text": [
      "cpu\n"
     ]
    },
    {
     "data": {
      "text/plain": [
       "(8.693506240844727, 1, torch.Size([113]))"
      ]
     },
     "execution_count": 55,
     "metadata": {},
     "output_type": "execute_result"
    }
   ],
   "source": [
    "from models import *\n",
    "\n",
    "device = \"cuda\" if torch.cuda.is_available() else \"cpu\"\n",
    "print(device)\n",
    "model = TransformerModel1()\n",
    "model.load_state_dict(torch.load(\"full_model.pth\", map_location=torch.device(device)))\n",
    "model = model.to(device)\n",
    "model.eval()\n",
    "\n",
    "X = X.to(device)\n",
    "\n",
    "y = model(X)\n",
    "(y.sum().item(), (y > 0.5).sum().item(), y.shape)"
   ]
  },
  {
   "cell_type": "code",
   "execution_count": 56,
   "id": "4674064f-314a-47f6-80a1-d3e57bb808b4",
   "metadata": {},
   "outputs": [
    {
     "data": {
      "text/plain": [
       "(10.013745307922363, 0, torch.Size([119]))"
      ]
     },
     "execution_count": 56,
     "metadata": {},
     "output_type": "execute_result"
    }
   ],
   "source": [
    "import random\n",
    "lines_certain2 = lines_certain.copy()\n",
    "random.shuffle(lines_certain2)\n",
    "\n",
    "Xfalse = [get_sample(*line1[:3], *line2[3:]) for line1, line2 in zip(lines_certain, lines_certain2)]\n",
    "Xfalse = [x for x in Xfalse if x is not None]\n",
    "Xfalse = torch.stack(Xfalse)\n",
    "Xfalse = torch.cat((Xfalse, Xfalse[:,:7,:]),1)\n",
    "Xfalse = Xfalse.transpose(-2,-1)\n",
    "Xfalse = Xfalse.to(device)\n",
    "\n",
    "y = model(Xfalse)\n",
    "(y.sum().item(), (y > 0.5).sum().item(),  y.shape)"
   ]
  },
  {
   "cell_type": "code",
   "execution_count": null,
   "id": "b804a27c-6c32-4ff7-8c28-573bc8674fb7",
   "metadata": {},
   "outputs": [],
   "source": []
  },
  {
   "cell_type": "code",
   "execution_count": null,
   "id": "60ecba1a-c654-4ab0-9ca2-032e8265ac8f",
   "metadata": {},
   "outputs": [],
   "source": []
  }
 ],
 "metadata": {
  "kernelspec": {
   "display_name": "Python 3 (ipykernel)",
   "language": "python",
   "name": "python3"
  },
  "language_info": {
   "codemirror_mode": {
    "name": "ipython",
    "version": 3
   },
   "file_extension": ".py",
   "mimetype": "text/x-python",
   "name": "python",
   "nbconvert_exporter": "python",
   "pygments_lexer": "ipython3",
   "version": "3.9.12"
  }
 },
 "nbformat": 4,
 "nbformat_minor": 5
}
