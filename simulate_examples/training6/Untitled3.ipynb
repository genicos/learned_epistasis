{
 "cells": [
  {
   "cell_type": "code",
   "execution_count": 4,
   "id": "9ab9c95f-1bc4-4e7b-b937-79dd17e8e15f",
   "metadata": {},
   "outputs": [],
   "source": [
    "from processing import convert_command_file1\n",
    "num_files = 100_000\n",
    "data_dir = \"../Data3\"\n",
    "C = [convert_command_file1(data_dir + \"/commands/command_\" + str(i)) for i in range(num_files)]\n"
   ]
  },
  {
   "cell_type": "code",
   "execution_count": 17,
   "id": "61ba2cb9-1059-48fd-bafb-bfb8a3df2904",
   "metadata": {},
   "outputs": [],
   "source": [
    "import numpy as np\n",
    "C = np.array(C)"
   ]
  },
  {
   "cell_type": "code",
   "execution_count": 20,
   "id": "17915477-005b-4632-be5a-e4c8a3ce3e6f",
   "metadata": {},
   "outputs": [
    {
     "data": {
      "text/plain": [
       "(200000, 11)"
      ]
     },
     "execution_count": 20,
     "metadata": {},
     "output_type": "execute_result"
    }
   ],
   "source": [
    "C.shape"
   ]
  },
  {
   "cell_type": "code",
   "execution_count": 19,
   "id": "bb9592f6-4c9f-4350-a018-c260674e9c00",
   "metadata": {},
   "outputs": [],
   "source": [
    "C = C.reshape(-1,11)"
   ]
  },
  {
   "cell_type": "code",
   "execution_count": 23,
   "id": "8717e8fb-37c3-401e-9e99-5a181c2cf56f",
   "metadata": {},
   "outputs": [
    {
     "data": {
      "text/plain": [
       "array([1.0000000e+00, 8.9999771e-01, 6.0000000e+02, 1.0000000e+04,\n",
       "       1.0000000e+02, 9.9999845e-01, 9.9999559e-01, 9.9999957e-02,\n",
       "       0.0000000e+00, 9.9999142e-01, 4.9998045e-02], dtype=float32)"
      ]
     },
     "execution_count": 23,
     "metadata": {},
     "output_type": "execute_result"
    }
   ],
   "source": [
    "C.max(axis=0)"
   ]
  },
  {
   "cell_type": "code",
   "execution_count": 24,
   "id": "d96c6457-11c8-4a81-be7b-a1083a8c486d",
   "metadata": {},
   "outputs": [
    {
     "data": {
      "text/plain": [
       "array([ 1.0000000e+00,  1.0000468e-01,  1.0000000e+02,  1.0000000e+04,\n",
       "        1.0000000e+02,  1.1855740e-05,  1.0021703e-05,  1.0000621e-02,\n",
       "        0.0000000e+00,  4.8768070e-06, -4.9994953e-02], dtype=float32)"
      ]
     },
     "execution_count": 24,
     "metadata": {},
     "output_type": "execute_result"
    }
   ],
   "source": [
    "C.min(axis=0)"
   ]
  },
  {
   "cell_type": "code",
   "execution_count": 25,
   "id": "f7e0627e-b3fb-4b9a-9c49-f32bcc14c171",
   "metadata": {},
   "outputs": [
    {
     "data": {
      "text/plain": [
       "array([1.0000000e+00, 4.9983308e-01, 3.4965735e+02, 9.9861475e+03,\n",
       "       1.0000000e+02, 5.0080639e-01, 4.9980393e-01, 5.4900099e-02,\n",
       "       0.0000000e+00, 4.9817774e-01, 2.1722447e-04], dtype=float32)"
      ]
     },
     "execution_count": 25,
     "metadata": {},
     "output_type": "execute_result"
    }
   ],
   "source": [
    "C.mean(axis=0)"
   ]
  },
  {
   "cell_type": "code",
   "execution_count": null,
   "id": "891a826b-1ae7-4379-bde1-6133c3a396d4",
   "metadata": {},
   "outputs": [],
   "source": []
  }
 ],
 "metadata": {
  "kernelspec": {
   "display_name": "Python 3 (ipykernel)",
   "language": "python",
   "name": "python3"
  },
  "language_info": {
   "codemirror_mode": {
    "name": "ipython",
    "version": 3
   },
   "file_extension": ".py",
   "mimetype": "text/x-python",
   "name": "python",
   "nbconvert_exporter": "python",
   "pygments_lexer": "ipython3",
   "version": "3.9.12"
  }
 },
 "nbformat": 4,
 "nbformat_minor": 5
}
