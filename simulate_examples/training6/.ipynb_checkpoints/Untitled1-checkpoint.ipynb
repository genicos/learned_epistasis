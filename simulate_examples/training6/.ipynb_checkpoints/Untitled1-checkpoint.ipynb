{
 "cells": [
  {
   "cell_type": "code",
   "execution_count": null,
   "id": "d5f67c3c-121b-4d20-ab52-5e88358e9f78",
   "metadata": {},
   "outputs": [],
   "source": [
    "def convert_files_test(sampling_file, command_file):\n",
    "\n",
    "    if command_file.endswith(\"000\"):\n",
    "        print(command_file[-5:])\n",
    "\n",
    "    with open(sampling_file, \"r\") as f:\n",
    "        lines = f.readlines()\n",
    "\n",
    "    if len(lines) < 100:\n",
    "        return None\n",
    "\n",
    "\n",
    "    X = [[int(l) for l in line[:-1]] for line in lines]\n",
    "\n",
    "    #random.shuffle(out) #This will shuffle the rows\n",
    "    with open(command_file, \"r\") as f:\n",
    "        s = f.readlines()[0].split()\n",
    "\n",
    "    if -0.01 < float(s[11]) < 0.01:\n",
    "        return None\n",
    "    \n",
    "    if float(s[8]) < 0.05:\n",
    "        return None\n",
    "\n",
    "    return 1"
   ]
  }
 ],
 "metadata": {
  "kernelspec": {
   "display_name": "Python 3 (ipykernel)",
   "language": "python",
   "name": "python3"
  },
  "language_info": {
   "codemirror_mode": {
    "name": "ipython",
    "version": 3
   },
   "file_extension": ".py",
   "mimetype": "text/x-python",
   "name": "python",
   "nbconvert_exporter": "python",
   "pygments_lexer": "ipython3",
   "version": "3.9.12"
  }
 },
 "nbformat": 4,
 "nbformat_minor": 5
}
