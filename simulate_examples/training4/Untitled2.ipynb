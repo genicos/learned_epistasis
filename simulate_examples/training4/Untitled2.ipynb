{
 "cells": [
  {
   "cell_type": "code",
   "execution_count": 39,
   "id": "be75a821-cc10-4d59-b18a-8200368f4698",
   "metadata": {},
   "outputs": [],
   "source": [
    "def convert_files11(sampling_file, command_file):\n",
    "\n",
    "    if command_file.endswith(\"000\"):\n",
    "        print(command_file[-5:])\n",
    "\n",
    "    with open(sampling_file, \"r\") as f:\n",
    "        lines = f.readlines()\n",
    "\n",
    "    if len(lines) < 100:\n",
    "        return None\n",
    "\n",
    "\n",
    "    X = [[int(l) for l in line[:-1]] for line in lines]\n",
    "\n",
    "    #random.shuffle(out) #This will shuffle the rows\n",
    "    with open(command_file, \"r\") as f:\n",
    "        s = f.readlines()[0].split()\n",
    "\n",
    "    if -0.01 < float(s[11]) < 0.01:\n",
    "        return None\n",
    "    \n",
    "    if float(s[8]) < 0.05:\n",
    "        return None\n",
    "\n",
    "    # if 0.4 <= float(s[2]) <= 0.6:\n",
    "    #     return None\n",
    "\n",
    "    points = [float(s[6]), float(s[7]), float(s[10])]\n",
    "    ind1, ind2, regular_ind = [round(num_samples*point - 0.5) for point in points]\n",
    "\n",
    "    site1 = [sample[ind1] for sample in X]\n",
    "    site2 = [sample[ind2] for sample in X]\n",
    "    regular_site = [sample[regular_ind] for sample in X]\n",
    "\n",
    "    for offset in range(1, sample_width // 2 + 1):\n",
    "        site_prev = [sample[ind1 - offset] for sample in X] if ind1 - offset >= 0 else [1 for _ in range(len(X))]\n",
    "        site_next = [sample[ind1 + offset] for sample in X] if ind1 + offset < num_samples else [1 for _ in range(len(X))]\n",
    "        site1 = site_prev + site1 + site_next\n",
    "\n",
    "        site_prev = [sample[ind2 - offset] for sample in X] if ind2 - offset >= 0 else [1 for _ in range(len(X))]\n",
    "        site_next = [sample[ind2 + offset] for sample in X] if ind2 + offset < num_samples else [1 for _ in range(len(X))]\n",
    "        site2 = site_prev + site2 + site_next\n",
    "\n",
    "        site_prev = [sample[regular_ind - offset] for sample in X] if regular_ind - offset >= 0 else [1 for _ in range(len(X))]\n",
    "        site_next = [sample[regular_ind + offset] for sample in X] if regular_ind + offset < num_samples else [1 for _ in range(len(X))]\n",
    "        regular_site = site_prev + regular_site + site_next\n",
    "\n",
    "    out_true = site1 + site2 if random.random() < 0.5 else site2 + site1\n",
    "\n",
    "    ep_site = site1 if random.random() < 0.5 else site2\n",
    "    # ep_site = site2\n",
    "\n",
    "    out_false = ep_site + regular_site\n",
    "\n",
    "    return [out_true, out_false]\n"
   ]
  },
  {
   "cell_type": "code",
   "execution_count": 40,
   "id": "bc218350-9efa-45a7-b012-8ef0c653d5f5",
   "metadata": {},
   "outputs": [
    {
     "name": "stdout",
     "output_type": "stream",
     "text": [
      "cuda\n",
      "_1000\n",
      "_2000\n",
      "_3000\n",
      "_4000\n",
      "_5000\n",
      "_6000\n",
      "_7000\n",
      "_8000\n",
      "_9000\n"
     ]
    }
   ],
   "source": [
    "from processing import *\n",
    "import models\n",
    "import torch\n",
    "\n",
    "train_prop = 0.9\n",
    "num_files = 100_000\n",
    "data_dir = \"../Data3\"\n",
    "max_batch_size = 128\n",
    "device = \"cuda\" if torch.cuda.is_available() else \"cpu\"\n",
    "print(device)\n",
    "\n",
    "# Load data from test indices\n",
    "X = [convert_files11(data_dir + \"/sampled_genotypes/sample_\" + str(i), data_dir + \"/commands/command_\" + str(i)) for i in range(10_000)] \n",
    "X = [x for x in X if x is not None]\n",
    "\n",
    "X = torch.tensor(X) - 1\n",
    "X = X.reshape(-1, sample_width*num_chrom * 2)\n"
   ]
  },
  {
   "cell_type": "code",
   "execution_count": 44,
   "id": "29457f4b-6d16-4eb6-af41-71018e598f4d",
   "metadata": {},
   "outputs": [
    {
     "name": "stdout",
     "output_type": "stream",
     "text": [
      "torch.Size([9970, 110])\n"
     ]
    }
   ],
   "source": [
    "print(X.shape)"
   ]
  },
  {
   "cell_type": "code",
   "execution_count": 42,
   "id": "650212c9-bc09-4f3b-9a67-98861c38da93",
   "metadata": {},
   "outputs": [],
   "source": [
    "X = X.reshape(-1, 2*sample_width,100)"
   ]
  },
  {
   "cell_type": "code",
   "execution_count": 43,
   "id": "a027dabf-18f6-45ab-b65f-72cafbc03e6d",
   "metadata": {},
   "outputs": [],
   "source": [
    "X = X.sum(axis=2)"
   ]
  },
  {
   "cell_type": "code",
   "execution_count": 45,
   "id": "30939c0a-5896-46e1-bbe2-fc1dbe39e38b",
   "metadata": {},
   "outputs": [],
   "source": [
    "X = abs(X)"
   ]
  },
  {
   "cell_type": "code",
   "execution_count": 46,
   "id": "e335a01d-dd73-4583-ad20-fab72fff1278",
   "metadata": {},
   "outputs": [],
   "source": [
    "Xt = X[::2]\n",
    "Xf = X[1::2]"
   ]
  },
  {
   "cell_type": "code",
   "execution_count": 54,
   "id": "8dbfdc9c-bbf8-4ea6-9fcc-816497d3c11e",
   "metadata": {},
   "outputs": [],
   "source": [
    "\n",
    "import matplotlib.pyplot as plt"
   ]
  },
  {
   "cell_type": "code",
   "execution_count": 63,
   "id": "0658eb37-e107-4cf4-8cac-6fdbdfe17230",
   "metadata": {},
   "outputs": [
    {
     "data": {
      "image/png": "[encoded data removed]",
      "text/plain": [
       "<Figure size 640x480 with 1 Axes>"
      ]
     },
     "metadata": {},
     "output_type": "display_data"
    }
   ],
   "source": [
    "\n",
    "plt.hist(Xt[:,-28],100)\n",
    "plt.show()"
   ]
  },
  {
   "cell_type": "code",
   "execution_count": 61,
   "id": "8ac01394-01b1-47bb-a3a5-b9e4c5e0878d",
   "metadata": {},
   "outputs": [
    {
     "data": {
      "image/png": "[encoded data removed]",
      "text/plain": [
       "<Figure size 640x480 with 1 Axes>"
      ]
     },
     "metadata": {},
     "output_type": "display_data"
    }
   ],
   "source": [
    "plt.hist(Xf[:,-28],100)\n",
    "plt.show()"
   ]
  },
  {
   "cell_type": "code",
   "execution_count": null,
   "id": "794f4dcd-656b-4bed-9bbd-799b31055c87",
   "metadata": {},
   "outputs": [],
   "source": []
  }
 ],
 "metadata": {
  "kernelspec": {
   "display_name": "Python 3 (ipykernel)",
   "language": "python",
   "name": "python3"
  },
  "language_info": {
   "codemirror_mode": {
    "name": "ipython",
    "version": 3
   },
   "file_extension": ".py",
   "mimetype": "text/x-python",
   "name": "python",
   "nbconvert_exporter": "python",
   "pygments_lexer": "ipython3",
   "version": "3.9.12"
  }
 },
 "nbformat": 4,
 "nbformat_minor": 5
}
